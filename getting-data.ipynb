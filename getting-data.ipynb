{
 "cells": [
  {
   "cell_type": "code",
   "execution_count": 8,
   "metadata": {},
   "outputs": [],
   "source": [
    "import os\n",
    "import pandas as pd\n",
    "from glob import glob"
   ]
  },
  {
   "cell_type": "code",
   "execution_count": 10,
   "metadata": {},
   "outputs": [],
   "source": [
    "import logging\n",
    "\n",
    "# Configure logging\n",
    "logging.basicConfig(level=logging.INFO, format='%(asctime)s - %(levelname)s - %(message)s')\n",
    "\n",
    "# Create a logger object\n",
    "logger = logging.getLogger(__name__)"
   ]
  },
  {
   "cell_type": "code",
   "execution_count": 15,
   "metadata": {},
   "outputs": [],
   "source": [
    "def load_data(file_type : str) -> pd.DataFrame:\n",
    "    '''\n",
    "    Will get data from a data folder in the directory.\n",
    "\n",
    "    :params file_type (str): 'recent' or 'historical'.\n",
    "\n",
    "    :returns df (pd.DataFrame): Latest file_type dataframe inside the data folder.\n",
    "    '''\n",
    "    \n",
    "    # Define the path pattern for the CSV files\n",
    "    path_pattern = f\"data/*{file_type}*.csv\"\n",
    "    \n",
    "    # List all matching files\n",
    "    files = glob(path_pattern)\n",
    "    \n",
    "    # Check if files are found\n",
    "    if not files:\n",
    "        raise ValueError(f\"No files found for type '{file_type}'\")\n",
    "    \n",
    "    # Get the latest file by creation time\n",
    "    latest_file = max(files, key=os.path.getctime)\n",
    "    logger.info(f\"Loading the latest {file_type} file: {latest_file}\")\n",
    "\n",
    "    # Load and return the DataFrame\n",
    "    return pd.read_csv(latest_file)"
   ]
  },
  {
   "cell_type": "code",
   "execution_count": 16,
   "metadata": {},
   "outputs": [
    {
     "name": "stderr",
     "output_type": "stream",
     "text": [
      "2023-11-06 21:34:43,979 - INFO - Loading the latest recent file: data/lsoa-recent.csv\n",
      "2023-11-06 21:34:44,375 - INFO - Loading the latest historical file: data/lsoa-historical.csv\n"
     ]
    }
   ],
   "source": [
    "recent_df = load_data('recent')\n",
    "historical_df = load_data('historical')"
   ]
  }
 ],
 "metadata": {
  "kernelspec": {
   "display_name": "base",
   "language": "python",
   "name": "python3"
  },
  "language_info": {
   "codemirror_mode": {
    "name": "ipython",
    "version": 3
   },
   "file_extension": ".py",
   "mimetype": "text/x-python",
   "name": "python",
   "nbconvert_exporter": "python",
   "pygments_lexer": "ipython3",
   "version": "3.9.12"
  },
  "orig_nbformat": 4
 },
 "nbformat": 4,
 "nbformat_minor": 2
}

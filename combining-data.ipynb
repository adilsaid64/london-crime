{
 "cells": [
  {
   "cell_type": "code",
   "execution_count": 1,
   "metadata": {},
   "outputs": [],
   "source": [
    "from src.data_preprocessor import load_data\n",
    "import pandas as pd"
   ]
  },
  {
   "cell_type": "code",
   "execution_count": 2,
   "metadata": {},
   "outputs": [
    {
     "name": "stderr",
     "output_type": "stream",
     "text": [
      "2023-11-06 22:11:56,970 - INFO - Loading the latest recent file: data/lsoa-recent.csv\n",
      "2023-11-06 22:11:57,258 - INFO - Loading the latest historical file: data/lsoa-historical.csv\n"
     ]
    }
   ],
   "source": [
    "recent_df = load_data('recent')\n",
    "historical_df = load_data('historical')"
   ]
  },
  {
   "cell_type": "code",
   "execution_count": 5,
   "metadata": {},
   "outputs": [],
   "source": [
    "def merge_crime_data(recent_df : pd.DataFrame, historical_df : pd.DataFrame) -> pd.DataFrame:\n",
    "    '''\n",
    "    Merges recent and historical crime data.\n",
    "    '''\n",
    "    return pd.merge(historical_df, recent_df, on=['LSOA Code', 'LSOA Name', 'Borough', 'Major Category', 'Minor Category'], how='outer')"
   ]
  },
  {
   "cell_type": "code",
   "execution_count": 7,
   "metadata": {},
   "outputs": [
    {
     "data": {
      "text/plain": [
       "LSOA Code             0\n",
       "LSOA Name             0\n",
       "Borough               0\n",
       "Major Category        0\n",
       "Minor Category        0\n",
       "                  ...  \n",
       "202305            51080\n",
       "202306            51080\n",
       "202307            51080\n",
       "202308            51080\n",
       "202309            51080\n",
       "Length: 167, dtype: int64"
      ]
     },
     "execution_count": 7,
     "metadata": {},
     "output_type": "execute_result"
    }
   ],
   "source": [
    "merge_crime_data(recent_df, historical_df).isna().sum()"
   ]
  },
  {
   "cell_type": "code",
   "execution_count": 25,
   "metadata": {},
   "outputs": [
    {
     "data": {
      "text/plain": [
       "Index(['LSOA Code', 'LSOA Name', 'Borough', 'Major Category', 'Minor Category',\n",
       "       '202110', '202111', '202112', '202201', '202202', '202203', '202204',\n",
       "       '202205', '202206', '202207', '202208', '202209', '202210', '202211',\n",
       "       '202212', '202301', '202302', '202303', '202304', '202305', '202306',\n",
       "       '202307', '202308', '202309'],\n",
       "      dtype='object')"
      ]
     },
     "execution_count": 25,
     "metadata": {},
     "output_type": "execute_result"
    }
   ],
   "source": [
    "recent_df.columns"
   ]
  },
  {
   "cell_type": "code",
   "execution_count": 26,
   "metadata": {},
   "outputs": [
    {
     "data": {
      "text/plain": [
       "Index(['LSOA Code', 'LSOA Name', 'Borough', 'Major Category', 'Minor Category',\n",
       "       '201903', '201904', '201905', '201906', '201907',\n",
       "       ...\n",
       "       '202012', '202101', '202102', '202103', '202104', '202105', '202106',\n",
       "       '202107', '202108', '202109'],\n",
       "      dtype='object', length=143)"
      ]
     },
     "execution_count": 26,
     "metadata": {},
     "output_type": "execute_result"
    }
   ],
   "source": [
    "historical_df.columns"
   ]
  }
 ],
 "metadata": {
  "kernelspec": {
   "display_name": "base",
   "language": "python",
   "name": "python3"
  },
  "language_info": {
   "codemirror_mode": {
    "name": "ipython",
    "version": 3
   },
   "file_extension": ".py",
   "mimetype": "text/x-python",
   "name": "python",
   "nbconvert_exporter": "python",
   "pygments_lexer": "ipython3",
   "version": "3.9.12"
  },
  "orig_nbformat": 4
 },
 "nbformat": 4,
 "nbformat_minor": 2
}

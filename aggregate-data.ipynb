{
 "cells": [
  {
   "cell_type": "code",
   "execution_count": 1,
   "metadata": {},
   "outputs": [],
   "source": [
    "from src.data_preprocessor import load_data, merge_crime_data\n",
    "import pandas as pd\n",
    "import numpy as np"
   ]
  },
  {
   "cell_type": "code",
   "execution_count": 2,
   "metadata": {},
   "outputs": [
    {
     "name": "stderr",
     "output_type": "stream",
     "text": [
      "2023-11-06 21:55:19,253 - INFO - Loading the latest recent file: data/lsoa-recent.csv\n",
      "2023-11-06 21:55:19,692 - INFO - Loading the latest historical file: data/lsoa-historical.csv\n"
     ]
    }
   ],
   "source": [
    "recent_df  = load_data('recent')\n",
    "historical_df  = load_data('historical')\n",
    "merged_df = merge_crime_data(recent_df, historical_df)"
   ]
  },
  {
   "cell_type": "code",
   "execution_count": 10,
   "metadata": {},
   "outputs": [],
   "source": [
    "def aggregate_to_yearly(merged_df:pd.DataFrame) -> pd.DataFrame:\n",
    "\n",
    "    yearly_df = merged_df.fillna(0).copy()\n",
    "\n",
    "    # Loop through unique years present in the dataset\n",
    "    years = {col[:4] for col in yearly_df.columns if col.isdigit()}\n",
    "\n",
    "    for year in years:\n",
    "        # List columns for that year\n",
    "        monthly_columns = [col for col in yearly_df.columns if col.startswith(year)]\n",
    "        \n",
    "        # Sum the monthly columns and create a new yearly column\n",
    "        yearly_df[year] = yearly_df[monthly_columns].sum(axis=1)\n",
    "        \n",
    "        # Optionally drop monthly columns if you no longer need them\n",
    "        yearly_df.drop(monthly_columns, axis=1, inplace=True)\n",
    "\n",
    "    return yearly_df"
   ]
  },
  {
   "cell_type": "code",
   "execution_count": 11,
   "metadata": {},
   "outputs": [],
   "source": [
    "yearly_df = aggregate_to_yearly(merged_df)"
   ]
  }
 ],
 "metadata": {
  "kernelspec": {
   "display_name": "base",
   "language": "python",
   "name": "python3"
  },
  "language_info": {
   "codemirror_mode": {
    "name": "ipython",
    "version": 3
   },
   "file_extension": ".py",
   "mimetype": "text/x-python",
   "name": "python",
   "nbconvert_exporter": "python",
   "pygments_lexer": "ipython3",
   "version": "3.9.12"
  },
  "orig_nbformat": 4
 },
 "nbformat": 4,
 "nbformat_minor": 2
}

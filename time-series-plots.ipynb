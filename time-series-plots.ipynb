{
 "cells": [
  {
   "cell_type": "code",
   "execution_count": 5,
   "metadata": {},
   "outputs": [],
   "source": [
    "from src.data_preprocessor import load_and_process_data, aggregate_to_yearly, filter_data\n",
    "import pandas as pd\n",
    "import matplotlib.pyplot as plt\n",
    "import seaborn as sns\n",
    "import geopandas as gpd\n",
    "import plotly.express as px"
   ]
  },
  {
   "cell_type": "code",
   "execution_count": 6,
   "metadata": {},
   "outputs": [
    {
     "name": "stderr",
     "output_type": "stream",
     "text": [
      "2023-11-11 14:34:44,910 - INFO - Loading the latest recent file: data/lsoa-recent.csv\n",
      "2023-11-11 14:34:45,157 - INFO - Loading the latest historical file: data/lsoa-historical.csv\n"
     ]
    }
   ],
   "source": [
    "df = load_and_process_data()"
   ]
  },
  {
   "cell_type": "code",
   "execution_count": 7,
   "metadata": {},
   "outputs": [],
   "source": [
    "# Sort data by columns and create an aggregated yearly dataset\n",
    "df = df.sort_index(axis = 1).fillna(0)\n",
    "yearly_df = aggregate_to_yearly(df).sort_index(axis=1)"
   ]
  },
  {
   "cell_type": "code",
   "execution_count": 15,
   "metadata": {},
   "outputs": [
    {
     "data": {
      "text/html": [
       "<div>\n",
       "<style scoped>\n",
       "    .dataframe tbody tr th:only-of-type {\n",
       "        vertical-align: middle;\n",
       "    }\n",
       "\n",
       "    .dataframe tbody tr th {\n",
       "        vertical-align: top;\n",
       "    }\n",
       "\n",
       "    .dataframe thead th {\n",
       "        text-align: right;\n",
       "    }\n",
       "</style>\n",
       "<table border=\"1\" class=\"dataframe\">\n",
       "  <thead>\n",
       "    <tr style=\"text-align: right;\">\n",
       "      <th></th>\n",
       "      <th></th>\n",
       "      <th>201004</th>\n",
       "      <th>201005</th>\n",
       "      <th>201006</th>\n",
       "      <th>201007</th>\n",
       "      <th>201008</th>\n",
       "      <th>201009</th>\n",
       "      <th>201010</th>\n",
       "      <th>201011</th>\n",
       "      <th>201012</th>\n",
       "      <th>201101</th>\n",
       "      <th>...</th>\n",
       "      <th>202212</th>\n",
       "      <th>202301</th>\n",
       "      <th>202302</th>\n",
       "      <th>202303</th>\n",
       "      <th>202304</th>\n",
       "      <th>202305</th>\n",
       "      <th>202306</th>\n",
       "      <th>202307</th>\n",
       "      <th>202308</th>\n",
       "      <th>202309</th>\n",
       "    </tr>\n",
       "    <tr>\n",
       "      <th>Borough</th>\n",
       "      <th>Major Category</th>\n",
       "      <th></th>\n",
       "      <th></th>\n",
       "      <th></th>\n",
       "      <th></th>\n",
       "      <th></th>\n",
       "      <th></th>\n",
       "      <th></th>\n",
       "      <th></th>\n",
       "      <th></th>\n",
       "      <th></th>\n",
       "      <th></th>\n",
       "      <th></th>\n",
       "      <th></th>\n",
       "      <th></th>\n",
       "      <th></th>\n",
       "      <th></th>\n",
       "      <th></th>\n",
       "      <th></th>\n",
       "      <th></th>\n",
       "      <th></th>\n",
       "      <th></th>\n",
       "    </tr>\n",
       "  </thead>\n",
       "  <tbody>\n",
       "    <tr>\n",
       "      <th rowspan=\"5\" valign=\"top\">Barking and Dagenham</th>\n",
       "      <th>Arson and Criminal Damage</th>\n",
       "      <td>215.0</td>\n",
       "      <td>195.0</td>\n",
       "      <td>236.0</td>\n",
       "      <td>228.0</td>\n",
       "      <td>210.0</td>\n",
       "      <td>168.0</td>\n",
       "      <td>209.0</td>\n",
       "      <td>188.0</td>\n",
       "      <td>152.0</td>\n",
       "      <td>177.0</td>\n",
       "      <td>...</td>\n",
       "      <td>92.0</td>\n",
       "      <td>96.0</td>\n",
       "      <td>94.0</td>\n",
       "      <td>112.0</td>\n",
       "      <td>99.0</td>\n",
       "      <td>113.0</td>\n",
       "      <td>124.0</td>\n",
       "      <td>137.0</td>\n",
       "      <td>122.0</td>\n",
       "      <td>53.0</td>\n",
       "    </tr>\n",
       "    <tr>\n",
       "      <th>Burglary</th>\n",
       "      <td>165.0</td>\n",
       "      <td>159.0</td>\n",
       "      <td>181.0</td>\n",
       "      <td>183.0</td>\n",
       "      <td>199.0</td>\n",
       "      <td>187.0</td>\n",
       "      <td>169.0</td>\n",
       "      <td>202.0</td>\n",
       "      <td>153.0</td>\n",
       "      <td>214.0</td>\n",
       "      <td>...</td>\n",
       "      <td>104.0</td>\n",
       "      <td>118.0</td>\n",
       "      <td>56.0</td>\n",
       "      <td>87.0</td>\n",
       "      <td>96.0</td>\n",
       "      <td>78.0</td>\n",
       "      <td>91.0</td>\n",
       "      <td>74.0</td>\n",
       "      <td>109.0</td>\n",
       "      <td>48.0</td>\n",
       "    </tr>\n",
       "    <tr>\n",
       "      <th>Drug Offences</th>\n",
       "      <td>85.0</td>\n",
       "      <td>70.0</td>\n",
       "      <td>87.0</td>\n",
       "      <td>82.0</td>\n",
       "      <td>107.0</td>\n",
       "      <td>95.0</td>\n",
       "      <td>119.0</td>\n",
       "      <td>119.0</td>\n",
       "      <td>39.0</td>\n",
       "      <td>66.0</td>\n",
       "      <td>...</td>\n",
       "      <td>119.0</td>\n",
       "      <td>127.0</td>\n",
       "      <td>149.0</td>\n",
       "      <td>126.0</td>\n",
       "      <td>91.0</td>\n",
       "      <td>111.0</td>\n",
       "      <td>131.0</td>\n",
       "      <td>150.0</td>\n",
       "      <td>94.0</td>\n",
       "      <td>40.0</td>\n",
       "    </tr>\n",
       "    <tr>\n",
       "      <th>Miscellaneous Crimes Against Society</th>\n",
       "      <td>22.0</td>\n",
       "      <td>13.0</td>\n",
       "      <td>15.0</td>\n",
       "      <td>13.0</td>\n",
       "      <td>17.0</td>\n",
       "      <td>13.0</td>\n",
       "      <td>21.0</td>\n",
       "      <td>16.0</td>\n",
       "      <td>16.0</td>\n",
       "      <td>23.0</td>\n",
       "      <td>...</td>\n",
       "      <td>19.0</td>\n",
       "      <td>22.0</td>\n",
       "      <td>24.0</td>\n",
       "      <td>28.0</td>\n",
       "      <td>21.0</td>\n",
       "      <td>23.0</td>\n",
       "      <td>22.0</td>\n",
       "      <td>24.0</td>\n",
       "      <td>15.0</td>\n",
       "      <td>10.0</td>\n",
       "    </tr>\n",
       "    <tr>\n",
       "      <th>Possession of Weapons</th>\n",
       "      <td>22.0</td>\n",
       "      <td>13.0</td>\n",
       "      <td>12.0</td>\n",
       "      <td>16.0</td>\n",
       "      <td>4.0</td>\n",
       "      <td>11.0</td>\n",
       "      <td>6.0</td>\n",
       "      <td>12.0</td>\n",
       "      <td>7.0</td>\n",
       "      <td>10.0</td>\n",
       "      <td>...</td>\n",
       "      <td>9.0</td>\n",
       "      <td>20.0</td>\n",
       "      <td>16.0</td>\n",
       "      <td>13.0</td>\n",
       "      <td>14.0</td>\n",
       "      <td>16.0</td>\n",
       "      <td>24.0</td>\n",
       "      <td>16.0</td>\n",
       "      <td>19.0</td>\n",
       "      <td>5.0</td>\n",
       "    </tr>\n",
       "    <tr>\n",
       "      <th>...</th>\n",
       "      <th>...</th>\n",
       "      <td>...</td>\n",
       "      <td>...</td>\n",
       "      <td>...</td>\n",
       "      <td>...</td>\n",
       "      <td>...</td>\n",
       "      <td>...</td>\n",
       "      <td>...</td>\n",
       "      <td>...</td>\n",
       "      <td>...</td>\n",
       "      <td>...</td>\n",
       "      <td>...</td>\n",
       "      <td>...</td>\n",
       "      <td>...</td>\n",
       "      <td>...</td>\n",
       "      <td>...</td>\n",
       "      <td>...</td>\n",
       "      <td>...</td>\n",
       "      <td>...</td>\n",
       "      <td>...</td>\n",
       "      <td>...</td>\n",
       "      <td>...</td>\n",
       "    </tr>\n",
       "    <tr>\n",
       "      <th rowspan=\"5\" valign=\"top\">Westminster</th>\n",
       "      <th>Public Order Offences</th>\n",
       "      <td>83.0</td>\n",
       "      <td>81.0</td>\n",
       "      <td>126.0</td>\n",
       "      <td>119.0</td>\n",
       "      <td>109.0</td>\n",
       "      <td>99.0</td>\n",
       "      <td>93.0</td>\n",
       "      <td>118.0</td>\n",
       "      <td>105.0</td>\n",
       "      <td>94.0</td>\n",
       "      <td>...</td>\n",
       "      <td>283.0</td>\n",
       "      <td>274.0</td>\n",
       "      <td>230.0</td>\n",
       "      <td>230.0</td>\n",
       "      <td>270.0</td>\n",
       "      <td>283.0</td>\n",
       "      <td>326.0</td>\n",
       "      <td>365.0</td>\n",
       "      <td>280.0</td>\n",
       "      <td>130.0</td>\n",
       "    </tr>\n",
       "    <tr>\n",
       "      <th>Robbery</th>\n",
       "      <td>149.0</td>\n",
       "      <td>139.0</td>\n",
       "      <td>126.0</td>\n",
       "      <td>104.0</td>\n",
       "      <td>100.0</td>\n",
       "      <td>161.0</td>\n",
       "      <td>175.0</td>\n",
       "      <td>142.0</td>\n",
       "      <td>171.0</td>\n",
       "      <td>198.0</td>\n",
       "      <td>...</td>\n",
       "      <td>359.0</td>\n",
       "      <td>319.0</td>\n",
       "      <td>325.0</td>\n",
       "      <td>286.0</td>\n",
       "      <td>342.0</td>\n",
       "      <td>362.0</td>\n",
       "      <td>388.0</td>\n",
       "      <td>351.0</td>\n",
       "      <td>350.0</td>\n",
       "      <td>143.0</td>\n",
       "    </tr>\n",
       "    <tr>\n",
       "      <th>Theft</th>\n",
       "      <td>2779.0</td>\n",
       "      <td>2733.0</td>\n",
       "      <td>2620.0</td>\n",
       "      <td>3061.0</td>\n",
       "      <td>2702.0</td>\n",
       "      <td>2628.0</td>\n",
       "      <td>2967.0</td>\n",
       "      <td>2862.0</td>\n",
       "      <td>2812.0</td>\n",
       "      <td>2823.0</td>\n",
       "      <td>...</td>\n",
       "      <td>5575.0</td>\n",
       "      <td>4653.0</td>\n",
       "      <td>4355.0</td>\n",
       "      <td>4396.0</td>\n",
       "      <td>3944.0</td>\n",
       "      <td>4300.0</td>\n",
       "      <td>4499.0</td>\n",
       "      <td>4574.0</td>\n",
       "      <td>3866.0</td>\n",
       "      <td>1289.0</td>\n",
       "    </tr>\n",
       "    <tr>\n",
       "      <th>Vehicle Offences</th>\n",
       "      <td>313.0</td>\n",
       "      <td>274.0</td>\n",
       "      <td>251.0</td>\n",
       "      <td>252.0</td>\n",
       "      <td>223.0</td>\n",
       "      <td>277.0</td>\n",
       "      <td>278.0</td>\n",
       "      <td>254.0</td>\n",
       "      <td>308.0</td>\n",
       "      <td>282.0</td>\n",
       "      <td>...</td>\n",
       "      <td>302.0</td>\n",
       "      <td>384.0</td>\n",
       "      <td>386.0</td>\n",
       "      <td>396.0</td>\n",
       "      <td>405.0</td>\n",
       "      <td>398.0</td>\n",
       "      <td>357.0</td>\n",
       "      <td>305.0</td>\n",
       "      <td>296.0</td>\n",
       "      <td>105.0</td>\n",
       "    </tr>\n",
       "    <tr>\n",
       "      <th>Violence Against the Person</th>\n",
       "      <td>546.0</td>\n",
       "      <td>598.0</td>\n",
       "      <td>629.0</td>\n",
       "      <td>657.0</td>\n",
       "      <td>586.0</td>\n",
       "      <td>573.0</td>\n",
       "      <td>601.0</td>\n",
       "      <td>558.0</td>\n",
       "      <td>529.0</td>\n",
       "      <td>563.0</td>\n",
       "      <td>...</td>\n",
       "      <td>951.0</td>\n",
       "      <td>901.0</td>\n",
       "      <td>829.0</td>\n",
       "      <td>797.0</td>\n",
       "      <td>820.0</td>\n",
       "      <td>947.0</td>\n",
       "      <td>973.0</td>\n",
       "      <td>1045.0</td>\n",
       "      <td>977.0</td>\n",
       "      <td>381.0</td>\n",
       "    </tr>\n",
       "  </tbody>\n",
       "</table>\n",
       "<p>320 rows × 162 columns</p>\n",
       "</div>"
      ],
      "text/plain": [
       "                                                           201004  201005  \\\n",
       "Borough              Major Category                                         \n",
       "Barking and Dagenham Arson and Criminal Damage              215.0   195.0   \n",
       "                     Burglary                               165.0   159.0   \n",
       "                     Drug Offences                           85.0    70.0   \n",
       "                     Miscellaneous Crimes Against Society    22.0    13.0   \n",
       "                     Possession of Weapons                   22.0    13.0   \n",
       "...                                                           ...     ...   \n",
       "Westminster          Public Order Offences                   83.0    81.0   \n",
       "                     Robbery                                149.0   139.0   \n",
       "                     Theft                                 2779.0  2733.0   \n",
       "                     Vehicle Offences                       313.0   274.0   \n",
       "                     Violence Against the Person            546.0   598.0   \n",
       "\n",
       "                                                           201006  201007  \\\n",
       "Borough              Major Category                                         \n",
       "Barking and Dagenham Arson and Criminal Damage              236.0   228.0   \n",
       "                     Burglary                               181.0   183.0   \n",
       "                     Drug Offences                           87.0    82.0   \n",
       "                     Miscellaneous Crimes Against Society    15.0    13.0   \n",
       "                     Possession of Weapons                   12.0    16.0   \n",
       "...                                                           ...     ...   \n",
       "Westminster          Public Order Offences                  126.0   119.0   \n",
       "                     Robbery                                126.0   104.0   \n",
       "                     Theft                                 2620.0  3061.0   \n",
       "                     Vehicle Offences                       251.0   252.0   \n",
       "                     Violence Against the Person            629.0   657.0   \n",
       "\n",
       "                                                           201008  201009  \\\n",
       "Borough              Major Category                                         \n",
       "Barking and Dagenham Arson and Criminal Damage              210.0   168.0   \n",
       "                     Burglary                               199.0   187.0   \n",
       "                     Drug Offences                          107.0    95.0   \n",
       "                     Miscellaneous Crimes Against Society    17.0    13.0   \n",
       "                     Possession of Weapons                    4.0    11.0   \n",
       "...                                                           ...     ...   \n",
       "Westminster          Public Order Offences                  109.0    99.0   \n",
       "                     Robbery                                100.0   161.0   \n",
       "                     Theft                                 2702.0  2628.0   \n",
       "                     Vehicle Offences                       223.0   277.0   \n",
       "                     Violence Against the Person            586.0   573.0   \n",
       "\n",
       "                                                           201010  201011  \\\n",
       "Borough              Major Category                                         \n",
       "Barking and Dagenham Arson and Criminal Damage              209.0   188.0   \n",
       "                     Burglary                               169.0   202.0   \n",
       "                     Drug Offences                          119.0   119.0   \n",
       "                     Miscellaneous Crimes Against Society    21.0    16.0   \n",
       "                     Possession of Weapons                    6.0    12.0   \n",
       "...                                                           ...     ...   \n",
       "Westminster          Public Order Offences                   93.0   118.0   \n",
       "                     Robbery                                175.0   142.0   \n",
       "                     Theft                                 2967.0  2862.0   \n",
       "                     Vehicle Offences                       278.0   254.0   \n",
       "                     Violence Against the Person            601.0   558.0   \n",
       "\n",
       "                                                           201012  201101  \\\n",
       "Borough              Major Category                                         \n",
       "Barking and Dagenham Arson and Criminal Damage              152.0   177.0   \n",
       "                     Burglary                               153.0   214.0   \n",
       "                     Drug Offences                           39.0    66.0   \n",
       "                     Miscellaneous Crimes Against Society    16.0    23.0   \n",
       "                     Possession of Weapons                    7.0    10.0   \n",
       "...                                                           ...     ...   \n",
       "Westminster          Public Order Offences                  105.0    94.0   \n",
       "                     Robbery                                171.0   198.0   \n",
       "                     Theft                                 2812.0  2823.0   \n",
       "                     Vehicle Offences                       308.0   282.0   \n",
       "                     Violence Against the Person            529.0   563.0   \n",
       "\n",
       "                                                           ...  202212  \\\n",
       "Borough              Major Category                        ...           \n",
       "Barking and Dagenham Arson and Criminal Damage             ...    92.0   \n",
       "                     Burglary                              ...   104.0   \n",
       "                     Drug Offences                         ...   119.0   \n",
       "                     Miscellaneous Crimes Against Society  ...    19.0   \n",
       "                     Possession of Weapons                 ...     9.0   \n",
       "...                                                        ...     ...   \n",
       "Westminster          Public Order Offences                 ...   283.0   \n",
       "                     Robbery                               ...   359.0   \n",
       "                     Theft                                 ...  5575.0   \n",
       "                     Vehicle Offences                      ...   302.0   \n",
       "                     Violence Against the Person           ...   951.0   \n",
       "\n",
       "                                                           202301  202302  \\\n",
       "Borough              Major Category                                         \n",
       "Barking and Dagenham Arson and Criminal Damage               96.0    94.0   \n",
       "                     Burglary                               118.0    56.0   \n",
       "                     Drug Offences                          127.0   149.0   \n",
       "                     Miscellaneous Crimes Against Society    22.0    24.0   \n",
       "                     Possession of Weapons                   20.0    16.0   \n",
       "...                                                           ...     ...   \n",
       "Westminster          Public Order Offences                  274.0   230.0   \n",
       "                     Robbery                                319.0   325.0   \n",
       "                     Theft                                 4653.0  4355.0   \n",
       "                     Vehicle Offences                       384.0   386.0   \n",
       "                     Violence Against the Person            901.0   829.0   \n",
       "\n",
       "                                                           202303  202304  \\\n",
       "Borough              Major Category                                         \n",
       "Barking and Dagenham Arson and Criminal Damage              112.0    99.0   \n",
       "                     Burglary                                87.0    96.0   \n",
       "                     Drug Offences                          126.0    91.0   \n",
       "                     Miscellaneous Crimes Against Society    28.0    21.0   \n",
       "                     Possession of Weapons                   13.0    14.0   \n",
       "...                                                           ...     ...   \n",
       "Westminster          Public Order Offences                  230.0   270.0   \n",
       "                     Robbery                                286.0   342.0   \n",
       "                     Theft                                 4396.0  3944.0   \n",
       "                     Vehicle Offences                       396.0   405.0   \n",
       "                     Violence Against the Person            797.0   820.0   \n",
       "\n",
       "                                                           202305  202306  \\\n",
       "Borough              Major Category                                         \n",
       "Barking and Dagenham Arson and Criminal Damage              113.0   124.0   \n",
       "                     Burglary                                78.0    91.0   \n",
       "                     Drug Offences                          111.0   131.0   \n",
       "                     Miscellaneous Crimes Against Society    23.0    22.0   \n",
       "                     Possession of Weapons                   16.0    24.0   \n",
       "...                                                           ...     ...   \n",
       "Westminster          Public Order Offences                  283.0   326.0   \n",
       "                     Robbery                                362.0   388.0   \n",
       "                     Theft                                 4300.0  4499.0   \n",
       "                     Vehicle Offences                       398.0   357.0   \n",
       "                     Violence Against the Person            947.0   973.0   \n",
       "\n",
       "                                                           202307  202308  \\\n",
       "Borough              Major Category                                         \n",
       "Barking and Dagenham Arson and Criminal Damage              137.0   122.0   \n",
       "                     Burglary                                74.0   109.0   \n",
       "                     Drug Offences                          150.0    94.0   \n",
       "                     Miscellaneous Crimes Against Society    24.0    15.0   \n",
       "                     Possession of Weapons                   16.0    19.0   \n",
       "...                                                           ...     ...   \n",
       "Westminster          Public Order Offences                  365.0   280.0   \n",
       "                     Robbery                                351.0   350.0   \n",
       "                     Theft                                 4574.0  3866.0   \n",
       "                     Vehicle Offences                       305.0   296.0   \n",
       "                     Violence Against the Person           1045.0   977.0   \n",
       "\n",
       "                                                           202309  \n",
       "Borough              Major Category                                \n",
       "Barking and Dagenham Arson and Criminal Damage               53.0  \n",
       "                     Burglary                                48.0  \n",
       "                     Drug Offences                           40.0  \n",
       "                     Miscellaneous Crimes Against Society    10.0  \n",
       "                     Possession of Weapons                    5.0  \n",
       "...                                                           ...  \n",
       "Westminster          Public Order Offences                  130.0  \n",
       "                     Robbery                                143.0  \n",
       "                     Theft                                 1289.0  \n",
       "                     Vehicle Offences                       105.0  \n",
       "                     Violence Against the Person            381.0  \n",
       "\n",
       "[320 rows x 162 columns]"
      ]
     },
     "execution_count": 15,
     "metadata": {},
     "output_type": "execute_result"
    }
   ],
   "source": [
    "def group_by(df: pd.DataFrame, columns : list = ['Borough'], agg_func :str ='sum', sort : bool =False) -> pd.DataFrame:\n",
    "    '''\n",
    "    Groups a DataFrame by specified column(s) and applies an aggregation function.\n",
    "\n",
    "    :params df (pd.DataFrame): The DataFrame to group.\n",
    "    :params columns (str or list): The column(s) to group by.\n",
    "    :params agg_func (str or dict, optional): The aggregation function(s) to apply. Default is 'sum'.\n",
    "    :params sort (bool, optional): Whether to sort the grouped data. Default is False.\n",
    "\n",
    "    :returns pd.DataFrame: The grouped DataFrame.\n",
    "    '''\n",
    "    # Ensure columns is a list for consistency\n",
    "    if isinstance(columns, str):\n",
    "        columns = [columns]\n",
    "\n",
    "    # Check if all columns are in DataFrame\n",
    "    missing_columns = [col for col in columns if col not in df.columns]\n",
    "    if missing_columns:\n",
    "        logger.error(f'Column(s) {\", \".join(missing_columns)} not found in dataset')\n",
    "        return None\n",
    "\n",
    "    grouped_df = df.groupby(by=columns).agg(agg_func)\n",
    "\n",
    "    if sort:\n",
    "        grouped_df = grouped_df.sort_values(by=columns)\n",
    "\n",
    "    return grouped_df\n",
    "\n",
    "# Example Usage\n",
    "group_by(df, columns = ['Borough', 'Major Category'])"
   ]
  },
  {
   "cell_type": "code",
   "execution_count": 44,
   "metadata": {},
   "outputs": [
    {
     "data": {
      "text/plain": [
       "2010    240728.0\n",
       "2011    330878.0\n",
       "2012    332648.0\n",
       "2013    305019.0\n",
       "2014    274775.0\n",
       "2015    272804.0\n",
       "2016    273668.0\n",
       "2017    298041.0\n",
       "2018    298947.0\n",
       "2019    327953.0\n",
       "2020    229369.0\n",
       "2021    229962.0\n",
       "2022    278994.0\n",
       "2023    223022.0\n",
       "dtype: float64"
      ]
     },
     "execution_count": 44,
     "metadata": {},
     "output_type": "execute_result"
    }
   ],
   "source": [
    "def get_yearly_trends(df, columns : list = ['Borough', 'Major Category'], agg_func : str = 'sum', crimes : list = ['Theft']):\n",
    "    \n",
    "    grouped_by_borough = group_by(df = df, columns = columns, agg_func=agg_func, sort = True)\n",
    "    yearly_by_borough = aggregate_to_yearly(grouped_by_borough).sort_index(axis = 1)\n",
    "\n",
    "    # Filtered data by borough and by crime\n",
    "    filted_data = filter_data(df = yearly_by_borough.reset_index(), column='Major Category', category_filters = crimes).reset_index(drop = True)\n",
    "    yearly_data_sums = filted_data.drop(columns = ['Borough', 'Major Category']).sum()\n",
    "\n",
    "    return yearly_data_sums\n",
    "\n",
    "\n",
    "# Example Usage\n",
    "crimes = ['Theft', 'Burglary']\n",
    "yearly_sums = get_yearly_trends(df = df, crimes = crimes, agg_func='sum')\n",
    "yearly_sums"
   ]
  },
  {
   "cell_type": "code",
   "execution_count": 45,
   "metadata": {},
   "outputs": [
    {
     "name": "stderr",
     "output_type": "stream",
     "text": [
      "2023-11-11 14:49:20,532 - INFO - Using categorical units to plot a list of strings that are all parsable as floats or dates. If these strings should be plotted as numbers, cast to the appropriate data type before plotting.\n",
      "2023-11-11 14:49:20,540 - INFO - Using categorical units to plot a list of strings that are all parsable as floats or dates. If these strings should be plotted as numbers, cast to the appropriate data type before plotting.\n"
     ]
    },
    {
     "data": {
      "image/png": "[encoded data removed]",
      "text/plain": [
       "<Figure size 1080x432 with 1 Axes>"
      ]
     },
     "metadata": {
      "needs_background": "light"
     },
     "output_type": "display_data"
    }
   ],
   "source": [
    "# Line Chart: Yearly trend of violent crimes for the entire city of London\n",
    "plt.figure(figsize=(15, 6))\n",
    "sns.lineplot(x=yearly_sums.index, y=yearly_sums.values, marker=\"o\", color=\"b\")\n",
    "plt.title(f'Yearly Trend of {\", \".join(str(crime) for crime in crimes)} Crimes in London (2010-2023)', fontsize=15)\n",
    "plt.xlabel('Year', fontsize=12)\n",
    "plt.ylabel('Total Crime Counts', fontsize=12)\n",
    "plt.grid(True, which=\"both\", ls=\"--\")\n",
    "plt.tight_layout()\n",
    "plt.show()"
   ]
  },
  {
   "cell_type": "code",
   "execution_count": 25,
   "metadata": {},
   "outputs": [
    {
     "data": {
      "text/plain": [
       "array(['2010', '2011', '2012', '2013', '2014', '2015', '2016', '2017',\n",
       "       '2018', '2019', '2020', '2021', '2022', '2023'], dtype=object)"
      ]
     },
     "execution_count": 25,
     "metadata": {},
     "output_type": "execute_result"
    }
   ],
   "source": [
    "yearly_sums.index.values"
   ]
  },
  {
   "cell_type": "code",
   "execution_count": 26,
   "metadata": {},
   "outputs": [
    {
     "data": {
      "application/vnd.plotly.v1+json": {
       "config": {
        "plotlyServerURL": "https://plot.ly"
       },
       "data": [
        {
         "hovertemplate": "Year=%{x}<br>Total Crime Counts=%{y}<extra></extra>",
         "legendgroup": "",
         "line": {
          "color": "#636efa",
          "dash": "solid"
         },
         "marker": {
          "symbol": "circle"
         },
         "mode": "lines+markers",
         "name": "",
         "orientation": "v",
         "showlegend": false,
         "type": "scatter",
         "x": [
          "2010",
          "2011",
          "2012",
          "2013",
          "2014",
          "2015",
          "2016",
          "2017",
          "2018",
          "2019",
          "2020",
          "2021",
          "2022",
          "2023"
         ],
         "xaxis": "x",
         "y": [
          172666,
          234639,
          238927,
          217432,
          198579,
          202299,
          205346,
          222046,
          218644,
          247579,
          169130,
          177622,
          227301,
          184544
         ],
         "yaxis": "y"
        }
       ],
       "layout": {
        "legend": {
         "tracegroupgap": 0
        },
        "plot_bgcolor": "white",
        "template": {
         "data": {
          "bar": [
           {
            "error_x": {
             "color": "#2a3f5f"
            },
            "error_y": {
             "color": "#2a3f5f"
            },
            "marker": {
             "line": {
              "color": "#E5ECF6",
              "width": 0.5
             },
             "pattern": {
              "fillmode": "overlay",
              "size": 10,
              "solidity": 0.2
             }
            },
            "type": "bar"
           }
          ],
          "barpolar": [
           {
            "marker": {
             "line": {
              "color": "#E5ECF6",
              "width": 0.5
             },
             "pattern": {
              "fillmode": "overlay",
              "size": 10,
              "solidity": 0.2
             }
            },
            "type": "barpolar"
           }
          ],
          "carpet": [
           {
            "aaxis": {
             "endlinecolor": "#2a3f5f",
             "gridcolor": "white",
             "linecolor": "white",
             "minorgridcolor": "white",
             "startlinecolor": "#2a3f5f"
            },
            "baxis": {
             "endlinecolor": "#2a3f5f",
             "gridcolor": "white",
             "linecolor": "white",
             "minorgridcolor": "white",
             "startlinecolor": "#2a3f5f"
            },
            "type": "carpet"
           }
          ],
          "choropleth": [
           {
            "colorbar": {
             "outlinewidth": 0,
             "ticks": ""
            },
            "type": "choropleth"
           }
          ],
          "contour": [
           {
            "colorbar": {
             "outlinewidth": 0,
             "ticks": ""
            },
            "colorscale": [
             [
              0,
              "#0d0887"
             ],
             [
              0.1111111111111111,
              "#46039f"
             ],
             [
              0.2222222222222222,
              "#7201a8"
             ],
             [
              0.3333333333333333,
              "#9c179e"
             ],
             [
              0.4444444444444444,
              "#bd3786"
             ],
             [
              0.5555555555555556,
              "#d8576b"
             ],
             [
              0.6666666666666666,
              "#ed7953"
             ],
             [
              0.7777777777777778,
              "#fb9f3a"
             ],
             [
              0.8888888888888888,
              "#fdca26"
             ],
             [
              1,
              "#f0f921"
             ]
            ],
            "type": "contour"
           }
          ],
          "contourcarpet": [
           {
            "colorbar": {
             "outlinewidth": 0,
             "ticks": ""
            },
            "type": "contourcarpet"
           }
          ],
          "heatmap": [
           {
            "colorbar": {
             "outlinewidth": 0,
             "ticks": ""
            },
            "colorscale": [
             [
              0,
              "#0d0887"
             ],
             [
              0.1111111111111111,
              "#46039f"
             ],
             [
              0.2222222222222222,
              "#7201a8"
             ],
             [
              0.3333333333333333,
              "#9c179e"
             ],
             [
              0.4444444444444444,
              "#bd3786"
             ],
             [
              0.5555555555555556,
              "#d8576b"
             ],
             [
              0.6666666666666666,
              "#ed7953"
             ],
             [
              0.7777777777777778,
              "#fb9f3a"
             ],
             [
              0.8888888888888888,
              "#fdca26"
             ],
             [
              1,
              "#f0f921"
             ]
            ],
            "type": "heatmap"
           }
          ],
          "heatmapgl": [
           {
            "colorbar": {
             "outlinewidth": 0,
             "ticks": ""
            },
            "colorscale": [
             [
              0,
              "#0d0887"
             ],
             [
              0.1111111111111111,
              "#46039f"
             ],
             [
              0.2222222222222222,
              "#7201a8"
             ],
             [
              0.3333333333333333,
              "#9c179e"
             ],
             [
              0.4444444444444444,
              "#bd3786"
             ],
             [
              0.5555555555555556,
              "#d8576b"
             ],
             [
              0.6666666666666666,
              "#ed7953"
             ],
             [
              0.7777777777777778,
              "#fb9f3a"
             ],
             [
              0.8888888888888888,
              "#fdca26"
             ],
             [
              1,
              "#f0f921"
             ]
            ],
            "type": "heatmapgl"
           }
          ],
          "histogram": [
           {
            "marker": {
             "pattern": {
              "fillmode": "overlay",
              "size": 10,
              "solidity": 0.2
             }
            },
            "type": "histogram"
           }
          ],
          "histogram2d": [
           {
            "colorbar": {
             "outlinewidth": 0,
             "ticks": ""
            },
            "colorscale": [
             [
              0,
              "#0d0887"
             ],
             [
              0.1111111111111111,
              "#46039f"
             ],
             [
              0.2222222222222222,
              "#7201a8"
             ],
             [
              0.3333333333333333,
              "#9c179e"
             ],
             [
              0.4444444444444444,
              "#bd3786"
             ],
             [
              0.5555555555555556,
              "#d8576b"
             ],
             [
              0.6666666666666666,
              "#ed7953"
             ],
             [
              0.7777777777777778,
              "#fb9f3a"
             ],
             [
              0.8888888888888888,
              "#fdca26"
             ],
             [
              1,
              "#f0f921"
             ]
            ],
            "type": "histogram2d"
           }
          ],
          "histogram2dcontour": [
           {
            "colorbar": {
             "outlinewidth": 0,
             "ticks": ""
            },
            "colorscale": [
             [
              0,
              "#0d0887"
             ],
             [
              0.1111111111111111,
              "#46039f"
             ],
             [
              0.2222222222222222,
              "#7201a8"
             ],
             [
              0.3333333333333333,
              "#9c179e"
             ],
             [
              0.4444444444444444,
              "#bd3786"
             ],
             [
              0.5555555555555556,
              "#d8576b"
             ],
             [
              0.6666666666666666,
              "#ed7953"
             ],
             [
              0.7777777777777778,
              "#fb9f3a"
             ],
             [
              0.8888888888888888,
              "#fdca26"
             ],
             [
              1,
              "#f0f921"
             ]
            ],
            "type": "histogram2dcontour"
           }
          ],
          "mesh3d": [
           {
            "colorbar": {
             "outlinewidth": 0,
             "ticks": ""
            },
            "type": "mesh3d"
           }
          ],
          "parcoords": [
           {
            "line": {
             "colorbar": {
              "outlinewidth": 0,
              "ticks": ""
             }
            },
            "type": "parcoords"
           }
          ],
          "pie": [
           {
            "automargin": true,
            "type": "pie"
           }
          ],
          "scatter": [
           {
            "marker": {
             "colorbar": {
              "outlinewidth": 0,
              "ticks": ""
             }
            },
            "type": "scatter"
           }
          ],
          "scatter3d": [
           {
            "line": {
             "colorbar": {
              "outlinewidth": 0,
              "ticks": ""
             }
            },
            "marker": {
             "colorbar": {
              "outlinewidth": 0,
              "ticks": ""
             }
            },
            "type": "scatter3d"
           }
          ],
          "scattercarpet": [
           {
            "marker": {
             "colorbar": {
              "outlinewidth": 0,
              "ticks": ""
             }
            },
            "type": "scattercarpet"
           }
          ],
          "scattergeo": [
           {
            "marker": {
             "colorbar": {
              "outlinewidth": 0,
              "ticks": ""
             }
            },
            "type": "scattergeo"
           }
          ],
          "scattergl": [
           {
            "marker": {
             "colorbar": {
              "outlinewidth": 0,
              "ticks": ""
             }
            },
            "type": "scattergl"
           }
          ],
          "scattermapbox": [
           {
            "marker": {
             "colorbar": {
              "outlinewidth": 0,
              "ticks": ""
             }
            },
            "type": "scattermapbox"
           }
          ],
          "scatterpolar": [
           {
            "marker": {
             "colorbar": {
              "outlinewidth": 0,
              "ticks": ""
             }
            },
            "type": "scatterpolar"
           }
          ],
          "scatterpolargl": [
           {
            "marker": {
             "colorbar": {
              "outlinewidth": 0,
              "ticks": ""
             }
            },
            "type": "scatterpolargl"
           }
          ],
          "scatterternary": [
           {
            "marker": {
             "colorbar": {
              "outlinewidth": 0,
              "ticks": ""
             }
            },
            "type": "scatterternary"
           }
          ],
          "surface": [
           {
            "colorbar": {
             "outlinewidth": 0,
             "ticks": ""
            },
            "colorscale": [
             [
              0,
              "#0d0887"
             ],
             [
              0.1111111111111111,
              "#46039f"
             ],
             [
              0.2222222222222222,
              "#7201a8"
             ],
             [
              0.3333333333333333,
              "#9c179e"
             ],
             [
              0.4444444444444444,
              "#bd3786"
             ],
             [
              0.5555555555555556,
              "#d8576b"
             ],
             [
              0.6666666666666666,
              "#ed7953"
             ],
             [
              0.7777777777777778,
              "#fb9f3a"
             ],
             [
              0.8888888888888888,
              "#fdca26"
             ],
             [
              1,
              "#f0f921"
             ]
            ],
            "type": "surface"
           }
          ],
          "table": [
           {
            "cells": {
             "fill": {
              "color": "#EBF0F8"
             },
             "line": {
              "color": "white"
             }
            },
            "header": {
             "fill": {
              "color": "#C8D4E3"
             },
             "line": {
              "color": "white"
             }
            },
            "type": "table"
           }
          ]
         },
         "layout": {
          "annotationdefaults": {
           "arrowcolor": "#2a3f5f",
           "arrowhead": 0,
           "arrowwidth": 1
          },
          "autotypenumbers": "strict",
          "coloraxis": {
           "colorbar": {
            "outlinewidth": 0,
            "ticks": ""
           }
          },
          "colorscale": {
           "diverging": [
            [
             0,
             "#8e0152"
            ],
            [
             0.1,
             "#c51b7d"
            ],
            [
             0.2,
             "#de77ae"
            ],
            [
             0.3,
             "#f1b6da"
            ],
            [
             0.4,
             "#fde0ef"
            ],
            [
             0.5,
             "#f7f7f7"
            ],
            [
             0.6,
             "#e6f5d0"
            ],
            [
             0.7,
             "#b8e186"
            ],
            [
             0.8,
             "#7fbc41"
            ],
            [
             0.9,
             "#4d9221"
            ],
            [
             1,
             "#276419"
            ]
           ],
           "sequential": [
            [
             0,
             "#0d0887"
            ],
            [
             0.1111111111111111,
             "#46039f"
            ],
            [
             0.2222222222222222,
             "#7201a8"
            ],
            [
             0.3333333333333333,
             "#9c179e"
            ],
            [
             0.4444444444444444,
             "#bd3786"
            ],
            [
             0.5555555555555556,
             "#d8576b"
            ],
            [
             0.6666666666666666,
             "#ed7953"
            ],
            [
             0.7777777777777778,
             "#fb9f3a"
            ],
            [
             0.8888888888888888,
             "#fdca26"
            ],
            [
             1,
             "#f0f921"
            ]
           ],
           "sequentialminus": [
            [
             0,
             "#0d0887"
            ],
            [
             0.1111111111111111,
             "#46039f"
            ],
            [
             0.2222222222222222,
             "#7201a8"
            ],
            [
             0.3333333333333333,
             "#9c179e"
            ],
            [
             0.4444444444444444,
             "#bd3786"
            ],
            [
             0.5555555555555556,
             "#d8576b"
            ],
            [
             0.6666666666666666,
             "#ed7953"
            ],
            [
             0.7777777777777778,
             "#fb9f3a"
            ],
            [
             0.8888888888888888,
             "#fdca26"
            ],
            [
             1,
             "#f0f921"
            ]
           ]
          },
          "colorway": [
           "#636efa",
           "#EF553B",
           "#00cc96",
           "#ab63fa",
           "#FFA15A",
           "#19d3f3",
           "#FF6692",
           "#B6E880",
           "#FF97FF",
           "#FECB52"
          ],
          "font": {
           "color": "#2a3f5f"
          },
          "geo": {
           "bgcolor": "white",
           "lakecolor": "white",
           "landcolor": "#E5ECF6",
           "showlakes": true,
           "showland": true,
           "subunitcolor": "white"
          },
          "hoverlabel": {
           "align": "left"
          },
          "hovermode": "closest",
          "mapbox": {
           "style": "light"
          },
          "paper_bgcolor": "white",
          "plot_bgcolor": "#E5ECF6",
          "polar": {
           "angularaxis": {
            "gridcolor": "white",
            "linecolor": "white",
            "ticks": ""
           },
           "bgcolor": "#E5ECF6",
           "radialaxis": {
            "gridcolor": "white",
            "linecolor": "white",
            "ticks": ""
           }
          },
          "scene": {
           "xaxis": {
            "backgroundcolor": "#E5ECF6",
            "gridcolor": "white",
            "gridwidth": 2,
            "linecolor": "white",
            "showbackground": true,
            "ticks": "",
            "zerolinecolor": "white"
           },
           "yaxis": {
            "backgroundcolor": "#E5ECF6",
            "gridcolor": "white",
            "gridwidth": 2,
            "linecolor": "white",
            "showbackground": true,
            "ticks": "",
            "zerolinecolor": "white"
           },
           "zaxis": {
            "backgroundcolor": "#E5ECF6",
            "gridcolor": "white",
            "gridwidth": 2,
            "linecolor": "white",
            "showbackground": true,
            "ticks": "",
            "zerolinecolor": "white"
           }
          },
          "shapedefaults": {
           "line": {
            "color": "#2a3f5f"
           }
          },
          "ternary": {
           "aaxis": {
            "gridcolor": "white",
            "linecolor": "white",
            "ticks": ""
           },
           "baxis": {
            "gridcolor": "white",
            "linecolor": "white",
            "ticks": ""
           },
           "bgcolor": "#E5ECF6",
           "caxis": {
            "gridcolor": "white",
            "linecolor": "white",
            "ticks": ""
           }
          },
          "title": {
           "x": 0.05
          },
          "xaxis": {
           "automargin": true,
           "gridcolor": "white",
           "linecolor": "white",
           "ticks": "",
           "title": {
            "standoff": 15
           },
           "zerolinecolor": "white",
           "zerolinewidth": 2
          },
          "yaxis": {
           "automargin": true,
           "gridcolor": "white",
           "linecolor": "white",
           "ticks": "",
           "title": {
            "standoff": 15
           },
           "zerolinecolor": "white",
           "zerolinewidth": 2
          }
         }
        },
        "title": {
         "text": "Yearly Trend of Violent Crimes in London (2010-2023)"
        },
        "xaxis": {
         "anchor": "y",
         "domain": [
          0,
          1
         ],
         "gridcolor": "LightPink",
         "gridwidth": 1,
         "showgrid": true,
         "title": {
          "text": "Year"
         }
        },
        "yaxis": {
         "anchor": "x",
         "domain": [
          0,
          1
         ],
         "gridcolor": "LightBlue",
         "gridwidth": 1,
         "showgrid": true,
         "title": {
          "text": "Total Crime Counts"
         }
        }
       }
      }
     },
     "metadata": {},
     "output_type": "display_data"
    }
   ],
   "source": [
    "\n",
    "\n",
    "fig = px.line(yearly_sums, x=yearly_sums.index.values, y=yearly_sums.values,\n",
    "              markers=True, title='Yearly Trend of Violent Crimes in London (2010-2023)',\n",
    "              labels={'x': 'Year', 'y': 'Total Crime Counts'})\n",
    "\n",
    "fig.update_layout(xaxis_title='Year',\n",
    "                  yaxis_title='Total Crime Counts',\n",
    "                  xaxis=dict(showgrid=True, gridwidth=1, gridcolor='LightPink'),\n",
    "                  yaxis=dict(showgrid=True, gridwidth=1, gridcolor='LightBlue'),\n",
    "                  plot_bgcolor='white')\n",
    "\n",
    "fig.show()"
   ]
  }
 ],
 "metadata": {
  "kernelspec": {
   "display_name": "base",
   "language": "python",
   "name": "python3"
  },
  "language_info": {
   "codemirror_mode": {
    "name": "ipython",
    "version": 3
   },
   "file_extension": ".py",
   "mimetype": "text/x-python",
   "name": "python",
   "nbconvert_exporter": "python",
   "pygments_lexer": "ipython3",
   "version": "3.9.12"
  },
  "orig_nbformat": 4
 },
 "nbformat": 4,
 "nbformat_minor": 2
}
